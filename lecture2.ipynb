{
  "nbformat": 4,
  "nbformat_minor": 0,
  "metadata": {
    "colab": {
      "name": "lecture2.ipynb",
      "provenance": [],
      "collapsed_sections": [],
      "authorship_tag": "ABX9TyMb6iFDfM5kPUau7z2WLKVK",
      "include_colab_link": true
    },
    "kernelspec": {
      "name": "python3",
      "display_name": "Python 3"
    },
    "language_info": {
      "name": "python"
    }
  },
  "cells": [
    {
      "cell_type": "markdown",
      "metadata": {
        "id": "view-in-github",
        "colab_type": "text"
      },
      "source": [
        "<a href=\"https://colab.research.google.com/github/alaazarour/lecture-python/blob/main/lecture2.ipynb\" target=\"_parent\"><img src=\"https://colab.research.google.com/assets/colab-badge.svg\" alt=\"Open In Colab\"/></a>"
      ]
    },
    {
      "cell_type": "code",
      "metadata": {
        "colab": {
          "base_uri": "https://localhost:8080/"
        },
        "id": "8gAAZlq4G3Qz",
        "outputId": "cda7265d-f4c0-4c35-9e45-a7bc2bcbb967"
      },
      "source": [
        "def test(a,b,op):\n",
        "  if op=='+':\n",
        "    add=a+b\n",
        "    return add\n",
        "  elif op=='-':\n",
        "      sub=a-b\n",
        "      return sub\n",
        "  else:\n",
        "      print('no')\n",
        "\n",
        "\n",
        "test(2,3,'+')\n"
      ],
      "execution_count": null,
      "outputs": [
        {
          "output_type": "execute_result",
          "data": {
            "text/plain": [
              "5"
            ]
          },
          "metadata": {},
          "execution_count": 19
        }
      ]
    },
    {
      "cell_type": "code",
      "metadata": {
        "colab": {
          "base_uri": "https://localhost:8080/"
        },
        "id": "7z53BYMYMKPs",
        "outputId": "62e0d90b-f238-4f23-e3ec-7ae9c5a5d5f6"
      },
      "source": [
        "def cal(num1,num2):\n",
        " add= num1+num2 \n",
        " sub=num1-num2\n",
        " mult=num1*num2\n",
        " div=num1/num2\n",
        " return add,sub,mult,div\n",
        "\n",
        "a,b,c,d=cal(5,4)\n",
        "print('add=',a)\n",
        "print('sub=',b)\n",
        "print('mult=',c)\n",
        "print('div=',d)"
      ],
      "execution_count": null,
      "outputs": [
        {
          "output_type": "stream",
          "name": "stdout",
          "text": [
            "add= 9\n",
            "sub= 1\n",
            "mult= 20\n",
            "div= 1.25\n"
          ]
        }
      ]
    },
    {
      "cell_type": "code",
      "metadata": {
        "colab": {
          "base_uri": "https://localhost:8080/",
          "height": 129
        },
        "id": "BgNRp2HMPQxT",
        "outputId": "bd884319-cc3c-443e-d2c6-17ebada02863"
      },
      "source": [
        "def cal(num1,num2,op):\n",
        "  num1=input(int('enter'))\n",
        "  num2=input(int('enter'))\n",
        "  if op=='+':\n",
        "   return num1+num2\n",
        "  elif op=='-':\n",
        "   return num1-num2\n",
        "  else:\n",
        "   print('no')\n",
        "   \n",
        " \n",
        " print(cal(num1,num2,'+'))\n",
        "\n",
        " "
      ],
      "execution_count": null,
      "outputs": [
        {
          "output_type": "error",
          "ename": "IndentationError",
          "evalue": "ignored",
          "traceback": [
            "\u001b[0;36m  File \u001b[0;32m\"<ipython-input-60-229fcb5a64b9>\"\u001b[0;36m, line \u001b[0;32m12\u001b[0m\n\u001b[0;31m    print(cal(num1,num2,'+'))\u001b[0m\n\u001b[0m                             ^\u001b[0m\n\u001b[0;31mIndentationError\u001b[0m\u001b[0;31m:\u001b[0m unindent does not match any outer indentation level\n"
          ]
        }
      ]
    },
    {
      "cell_type": "code",
      "metadata": {
        "id": "d2F1P86oS-Jr"
      },
      "source": [
        "\n",
        "from datetime import date\n",
        "def birth():\n",
        "  now=datetime.datetime.now\n",
        "  birth_date=datetime.date(1999,10, 19)\n",
        "  years=now-birth_date\n",
        "  print(years)\n",
        "\n"
      ],
      "execution_count": null,
      "outputs": []
    },
    {
      "cell_type": "code",
      "metadata": {
        "colab": {
          "base_uri": "https://localhost:8080/"
        },
        "id": "HFdFtUsCWpg5",
        "outputId": "5876a9af-579d-4111-97a8-313a2bb57d65"
      },
      "source": [
        "from datetime import date\n",
        " \n",
        "def calculateAge(birthDate):\n",
        "    today = date.today()\n",
        "    age = today.year - birthDate.year \n",
        "    return age\n",
        "     \n",
        "\n",
        "print(calculateAge(date(1999, 10, 19)), \"years\")"
      ],
      "execution_count": null,
      "outputs": [
        {
          "output_type": "stream",
          "name": "stdout",
          "text": [
            "22 years\n"
          ]
        }
      ]
    },
    {
      "cell_type": "code",
      "metadata": {
        "colab": {
          "base_uri": "https://localhost:8080/"
        },
        "id": "jXdH3Ey0YNJY",
        "outputId": "29f567cf-3b87-44bf-9ccc-22ad9e3fdd34"
      },
      "source": [
        "previous_num = 0\n",
        "\n",
        "for i in range(1, 11):\n",
        "    x_sum = previous_num + i\n",
        "    print(\"Current Number\", i, \"Previous Number \", previous_num, \" Sum: \", previous_num + i)\n",
        "    previous_num = i\n",
        "    "
      ],
      "execution_count": null,
      "outputs": [
        {
          "output_type": "stream",
          "name": "stdout",
          "text": [
            "Current Number 1 Previous Number  0  Sum:  1\n",
            "Current Number 2 Previous Number  1  Sum:  3\n",
            "Current Number 3 Previous Number  2  Sum:  5\n",
            "Current Number 4 Previous Number  3  Sum:  7\n",
            "Current Number 5 Previous Number  4  Sum:  9\n",
            "Current Number 6 Previous Number  5  Sum:  11\n",
            "Current Number 7 Previous Number  6  Sum:  13\n",
            "Current Number 8 Previous Number  7  Sum:  15\n",
            "Current Number 9 Previous Number  8  Sum:  17\n",
            "Current Number 10 Previous Number  9  Sum:  19\n"
          ]
        }
      ]
    },
    {
      "cell_type": "code",
      "metadata": {
        "colab": {
          "base_uri": "https://localhost:8080/"
        },
        "id": "r3LgHq2WcNqX",
        "outputId": "af0fedce-e6bd-4c03-f427-1fdecbedc28c"
      },
      "source": [
        "password= input('Enter password')\n",
        "print(\"Original:\", password)\n",
        "x = list(password)\n",
        "for i in x[0::2]:\n",
        "    print(i)"
      ],
      "execution_count": null,
      "outputs": [
        {
          "output_type": "stream",
          "name": "stdout",
          "text": [
            "Enter passwordalaazarour\n",
            "Original: alaazarour\n",
            "a\n",
            "a\n",
            "z\n",
            "r\n",
            "u\n"
          ]
        }
      ]
    },
    {
      "cell_type": "code",
      "metadata": {
        "colab": {
          "base_uri": "https://localhost:8080/"
        },
        "id": "akQkBXi8e-O8",
        "outputId": "08265d59-4214-4ed9-e323-d64195e9ae17"
      },
      "source": [
        "word= input('enter')\n",
        "def remove_chars(n):\n",
        "    print('Original string:', word)\n",
        "    x = word[n:]\n",
        "    return x\n",
        "print(remove_chars(4))\n"
      ],
      "execution_count": null,
      "outputs": [
        {
          "output_type": "stream",
          "name": "stdout",
          "text": [
            "enteralaaesam\n",
            "Original string: alaaesam\n",
            "esam\n"
          ]
        }
      ]
    },
    {
      "cell_type": "code",
      "metadata": {
        "id": "CrfSr4jttkbl",
        "colab": {
          "base_uri": "https://localhost:8080/"
        },
        "outputId": "711620e8-0c0b-4771-c35a-b981d244dd76"
      },
      "source": [
        "class student :\n",
        "  def __init__(self,name,age):\n",
        "   self.name=name\n",
        "   self.age=age \n",
        "  def show(self):\n",
        "   print(\"name is\",self.name ,\"age is\", self.age)\n",
        "obj=student('alaa',22)\n",
        "obj.show()"
      ],
      "execution_count": null,
      "outputs": [
        {
          "output_type": "stream",
          "name": "stdout",
          "text": [
            "name is alaa age is 22\n"
          ]
        }
      ]
    },
    {
      "cell_type": "code",
      "metadata": {
        "colab": {
          "base_uri": "https://localhost:8080/"
        },
        "id": "DwhkBo1j_GKZ",
        "outputId": "0fd28c35-ad6d-4c46-fb5f-1fa0f2f81ef7"
      },
      "source": [
        "num_list = [10, 20, 33, 66, 55]\n",
        "print(\"Given list:\", num_list)\n",
        "print('Divisible by 5:')\n",
        "for i in num_list:\n",
        "    if i % 5 == 0:\n",
        "        print(i)"
      ],
      "execution_count": null,
      "outputs": [
        {
          "output_type": "stream",
          "name": "stdout",
          "text": [
            "Given list: [10, 20, 33, 66, 55]\n",
            "Divisible by 5:\n",
            "10\n",
            "20\n",
            "55\n"
          ]
        }
      ]
    },
    {
      "cell_type": "code",
      "metadata": {
        "id": "S25D-jrfi6v0",
        "colab": {
          "base_uri": "https://localhost:8080/"
        },
        "outputId": "816d66e6-1fb4-471f-e0ca-f573d9bedf48"
      },
      "source": [
        "str_x = \"Emma is good developer. Emma is a writer\"\n",
        "cnt = str_x.count(\"Emma\")\n",
        "print(cnt)"
      ],
      "execution_count": null,
      "outputs": [
        {
          "output_type": "stream",
          "name": "stdout",
          "text": [
            "2\n"
          ]
        }
      ]
    },
    {
      "cell_type": "code",
      "metadata": {
        "colab": {
          "base_uri": "https://localhost:8080/"
        },
        "id": "z46qbu6lRjN_",
        "outputId": "a66ad4d7-b416-484e-e44d-eca057e9acf6"
      },
      "source": [
        "for num in range(6):\n",
        "    for i in range(num):\n",
        "        print (num, end=\" \") \n",
        "    print(\"\\n\")"
      ],
      "execution_count": null,
      "outputs": [
        {
          "output_type": "stream",
          "name": "stdout",
          "text": [
            "\n",
            "\n",
            "1 \n",
            "\n",
            "2 2 \n",
            "\n",
            "3 3 3 \n",
            "\n",
            "4 4 4 4 \n",
            "\n",
            "5 5 5 5 5 \n",
            "\n"
          ]
        }
      ]
    },
    {
      "cell_type": "code",
      "metadata": {
        "id": "i2G3mdAYV6Df",
        "colab": {
          "base_uri": "https://localhost:8080/"
        },
        "outputId": "ac68dc57-9c0d-4afb-ba00-b048776c86a3"
      },
      "source": [
        "def merge_list(list1, list2):\n",
        "    result_list = []\n",
        "    \n",
        "    # iterate first list\n",
        "    for num in list1:\n",
        "        # check if current number is odd\n",
        "        if num % 2 != 0:\n",
        "            # add odd number to result list\n",
        "            result_list.append(num)\n",
        "    \n",
        "    # iterate second list\n",
        "    for num in list2:\n",
        "        # check if current number is even\n",
        "        if num % 2 == 0:\n",
        "            # add even number to result list\n",
        "            result_list.append(num)\n",
        "    return result_list\n",
        "\n",
        "list1 = [10, 20, 25, 30, 35]\n",
        "list2 = [40, 45, 60, 75, 90]\n",
        "print(\"result list:\", merge_list(list1, list2))"
      ],
      "execution_count": null,
      "outputs": [
        {
          "output_type": "stream",
          "name": "stdout",
          "text": [
            "result list: [25, 35, 40, 60, 90]\n"
          ]
        }
      ]
    }
  ]
}