{
  "nbformat": 4,
  "nbformat_minor": 0,
  "metadata": {
    "colab": {
      "name": "lect3.ipynb",
      "provenance": [],
      "collapsed_sections": [],
      "authorship_tag": "ABX9TyM73VG1+6miTYPFO62icMlZ",
      "include_colab_link": true
    },
    "kernelspec": {
      "name": "python3",
      "display_name": "Python 3"
    },
    "language_info": {
      "name": "python"
    }
  },
  "cells": [
    {
      "cell_type": "markdown",
      "metadata": {
        "id": "view-in-github",
        "colab_type": "text"
      },
      "source": [
        "<a href=\"https://colab.research.google.com/github/alaazarour/lecture-python/blob/main/lect3.ipynb\" target=\"_parent\"><img src=\"https://colab.research.google.com/assets/colab-badge.svg\" alt=\"Open In Colab\"/></a>"
      ]
    },
    {
      "cell_type": "code",
      "metadata": {
        "colab": {
          "base_uri": "https://localhost:8080/"
        },
        "id": "CPJJrM76as-F",
        "outputId": "451ebab0-0f68-4cf1-b829-f1e61b4826a9"
      },
      "source": [
        "import random\n",
        "print(random.random())\n"
      ],
      "execution_count": null,
      "outputs": [
        {
          "output_type": "stream",
          "name": "stdout",
          "text": [
            "0.6364809825426082\n"
          ]
        }
      ]
    },
    {
      "cell_type": "code",
      "metadata": {
        "colab": {
          "base_uri": "https://localhost:8080/"
        },
        "id": "rkiZyFlDa9-q",
        "outputId": "ab553a8e-108a-4e4b-8800-a252d6d481f4"
      },
      "source": [
        "import random\n",
        "print(random.randint(10, 20))"
      ],
      "execution_count": null,
      "outputs": [
        {
          "output_type": "stream",
          "name": "stdout",
          "text": [
            "13\n"
          ]
        }
      ]
    },
    {
      "cell_type": "code",
      "metadata": {
        "colab": {
          "base_uri": "https://localhost:8080/"
        },
        "id": "GMVE9GhFbGAT",
        "outputId": "c9110aef-76a6-4f25-ba1e-65fc8eed6233"
      },
      "source": [
        "import random\n",
        "print(random.randrange(10, 20,2))"
      ],
      "execution_count": null,
      "outputs": [
        {
          "output_type": "stream",
          "name": "stdout",
          "text": [
            "12\n"
          ]
        }
      ]
    },
    {
      "cell_type": "code",
      "metadata": {
        "colab": {
          "base_uri": "https://localhost:8080/"
        },
        "id": "q0z7DbyMdUzq",
        "outputId": "25d9b3ea-b12f-42ae-dbac-3ab77a2884c7"
      },
      "source": [
        "print(random.uniform(5, 25))\n"
      ],
      "execution_count": null,
      "outputs": [
        {
          "output_type": "stream",
          "name": "stdout",
          "text": [
            "5.566949530440127\n"
          ]
        }
      ]
    },
    {
      "cell_type": "code",
      "metadata": {
        "colab": {
          "base_uri": "https://localhost:8080/"
        },
        "id": "bt3aLrELdXPg",
        "outputId": "c16ba16f-d72d-4e84-924d-1d4b50182bec"
      },
      "source": [
        "print(random.choice([10, 20, 30, 40, 50]))"
      ],
      "execution_count": null,
      "outputs": [
        {
          "output_type": "stream",
          "name": "stdout",
          "text": [
            "20\n"
          ]
        }
      ]
    },
    {
      "cell_type": "code",
      "metadata": {
        "colab": {
          "base_uri": "https://localhost:8080/"
        },
        "id": "7BNWcPJkd_HA",
        "outputId": "ad7f16cd-c019-4671-e0a6-8bb3f83f281b"
      },
      "source": [
        "\n",
        "x = [10, 20, 30, 40, 50, 60]\n",
        "random.shuffle(x)\n",
        "print(x)"
      ],
      "execution_count": null,
      "outputs": [
        {
          "output_type": "stream",
          "name": "stdout",
          "text": [
            "[40, 20, 60, 30, 10, 50]\n"
          ]
        }
      ]
    },
    {
      "cell_type": "code",
      "metadata": {
        "colab": {
          "base_uri": "https://localhost:8080/"
        },
        "id": "NkeLo5KheXYY",
        "outputId": "b3e376cb-87ac-47a2-d8b2-7efc97f17c30"
      },
      "source": [
        "random.seed(1)\n",
        "print(random.randint(10, 20))"
      ],
      "execution_count": null,
      "outputs": [
        {
          "output_type": "stream",
          "name": "stdout",
          "text": [
            "12\n"
          ]
        }
      ]
    },
    {
      "cell_type": "code",
      "metadata": {
        "colab": {
          "base_uri": "https://localhost:8080/"
        },
        "id": "hsR1W5wdeN-J",
        "outputId": "846f72d4-e949-46b2-a803-7ece5a971cd6"
      },
      "source": [
        "print(random.choices([10, 20, 30, 40, 50], k=3))"
      ],
      "execution_count": null,
      "outputs": [
        {
          "output_type": "stream",
          "name": "stdout",
          "text": [
            "[40, 30, 20]\n"
          ]
        }
      ]
    },
    {
      "cell_type": "code",
      "metadata": {
        "colab": {
          "base_uri": "https://localhost:8080/"
        },
        "id": "H_iAzuWJeQaA",
        "outputId": "fc069560-4433-4212-f391-d1b2a4e95c7f"
      },
      "source": [
        "print(random.sample([10, 20, 30, 40, 50], k=3))"
      ],
      "execution_count": null,
      "outputs": [
        {
          "output_type": "stream",
          "name": "stdout",
          "text": [
            "[20, 10, 50]\n"
          ]
        }
      ]
    },
    {
      "cell_type": "code",
      "metadata": {
        "colab": {
          "base_uri": "https://localhost:8080/"
        },
        "id": "iw4iheINzMss",
        "outputId": "1a11a228-58a8-4b33-8ef5-19b6a5fceb0a"
      },
      "source": [
        "import pandas as pd\n",
        "fruits_list = ['Apple', 10, 'Orange', 55.50]\n",
        "print(fruits_list)\n",
        "fruits_df = pd.DataFrame(fruits_list)\n",
        "print(fruits_df)\n"
      ],
      "execution_count": null,
      "outputs": [
        {
          "output_type": "stream",
          "name": "stdout",
          "text": [
            "['Apple', 10, 'Orange', 55.5]\n",
            "        0\n",
            "0   Apple\n",
            "1      10\n",
            "2  Orange\n",
            "3    55.5\n"
          ]
        }
      ]
    },
    {
      "cell_type": "code",
      "metadata": {
        "colab": {
          "base_uri": "https://localhost:8080/"
        },
        "id": "dUuwKIPC1b81",
        "outputId": "2f6fcb8b-b9e2-431e-fe2f-c1383e048738"
      },
      "source": [
        "import pandas as pd\n",
        "\n",
        "# Create list\n",
        "price_list = ['50', '100', '60', '20']\n",
        "print(price_list)\n",
        "\n",
        "# Create DataFrame from list\n",
        "price_df = pd.DataFrame(price_list)\n",
        "print(\"Data type before : \", price_df.dtypes)\n",
        "\n",
        "# Create DataFrame from list with type change\n",
        "price_df = pd.DataFrame(price_list, dtype='float64')\n",
        "print(\"Data type after : \", price_df.dtypes)\n",
        "print(price_df)\n"
      ],
      "execution_count": null,
      "outputs": [
        {
          "output_type": "stream",
          "name": "stdout",
          "text": [
            "['50', '100', '60', '20']\n",
            "Data type before :  0    object\n",
            "dtype: object\n",
            "Data type after :  0    float64\n",
            "dtype: object\n",
            "       0\n",
            "0   50.0\n",
            "1  100.0\n",
            "2   60.0\n",
            "3   20.0\n"
          ]
        }
      ]
    },
    {
      "cell_type": "code",
      "metadata": {
        "colab": {
          "base_uri": "https://localhost:8080/"
        },
        "id": "trWnUBIb2uDm",
        "outputId": "c4c89dee-8115-4825-df3d-dfe26a74ec12"
      },
      "source": [
        "import pandas as pd\n",
        "\n",
        "# Create list\n",
        "fruits_list = [['Apple', 'Banana', 'Orange', 'Mango'],[120, 40, 80, 500]]\n",
        "print(fruits_list)\n",
        "\n",
        "# Create DataFrame from list\n",
        "fruits_df = pd.DataFrame(fruits_list).transpose()\n",
        "print(fruits_df)\n"
      ],
      "execution_count": null,
      "outputs": [
        {
          "output_type": "stream",
          "name": "stdout",
          "text": [
            "[['Apple', 'Banana', 'Orange', 'Mango'], [120, 40, 80, 500]]\n",
            "        0    1\n",
            "0   Apple  120\n",
            "1  Banana   40\n",
            "2  Orange   80\n",
            "3   Mango  500\n"
          ]
        }
      ]
    },
    {
      "cell_type": "code",
      "metadata": {
        "colab": {
          "base_uri": "https://localhost:8080/"
        },
        "id": "clgX64Xe4YEO",
        "outputId": "677ad07e-52bb-4e7f-a2c0-7335e0f66bc2"
      },
      "source": [
        "import pandas as pd\n",
        "\n",
        "# Create multiple lists\n",
        "fruits_list = ['Apple', 'Banana', 'Orange', 'Mango']\n",
        "price_list = [120, 40, 80, 500]\n",
        "\n",
        "# Create DataFrame\n",
        "fruits_df = pd.DataFrame(list(zip(fruits_list, price_list )), columns = ['Name', 'Price'])\n",
        "print(fruits_df)"
      ],
      "execution_count": null,
      "outputs": [
        {
          "output_type": "stream",
          "name": "stdout",
          "text": [
            "     Name  Price\n",
            "0   Apple    120\n",
            "1  Banana     40\n",
            "2  Orange     80\n",
            "3   Mango    500\n"
          ]
        }
      ]
    },
    {
      "cell_type": "code",
      "metadata": {
        "colab": {
          "base_uri": "https://localhost:8080/"
        },
        "id": "Vd7_irGa4aUV",
        "outputId": "d015cf74-5307-463e-ce35-065f39298420"
      },
      "source": [
        "import pandas as pd\n",
        "\n",
        "# Create multiple lists\n",
        "fruits_list = ['Apple', 'Banana', 'Orange', 'Mango']\n",
        "price_list = [120, 40, 80, 500]\n",
        "\n",
        "# Create dict\n",
        "fruits_dict = {'Name': fruits_list,\n",
        "               'Price': price_list}\n",
        "print(fruits_dict)\n",
        "\n",
        "# Create DataFrame from dict\n",
        "fruits_df = pd.DataFrame(fruits_dict)\n",
        "print(fruits_df)\n",
        "print('/n')\n",
        "topRows = fruits_df.head(2)\n",
        "print(topRows)\n",
        "print('/n')\n",
        "bottomRows = fruits_df.tail(3)\n",
        "print(bottomRows)\n"
      ],
      "execution_count": null,
      "outputs": [
        {
          "output_type": "stream",
          "name": "stdout",
          "text": [
            "{'Name': ['Apple', 'Banana', 'Orange', 'Mango'], 'Price': [120, 40, 80, 500]}\n",
            "     Name  Price\n",
            "0   Apple    120\n",
            "1  Banana     40\n",
            "2  Orange     80\n",
            "3   Mango    500\n",
            "/n\n",
            "     Name  Price\n",
            "0   Apple    120\n",
            "1  Banana     40\n",
            "/n\n",
            "     Name  Price\n",
            "1  Banana     40\n",
            "2  Orange     80\n",
            "3   Mango    500\n"
          ]
        }
      ]
    },
    {
      "cell_type": "code",
      "metadata": {
        "colab": {
          "base_uri": "https://localhost:8080/"
        },
        "id": "HD4Tgf7--VNw",
        "outputId": "d08e40d7-06fe-47ff-b8a1-af008cd60fa6"
      },
      "source": [
        "import pandas as pd\n",
        "\n",
        "student_dict = {'Name': ['Joe', 'Nat', 'Harry',], 'Age': [20, 21, 19], \n",
        "                'Marks': [85.10, 77.80, 91.54]}\n",
        "\n",
        "# create DataFrame from dict\n",
        "student_df = pd.DataFrame(student_dict)\n",
        "\n",
        "value = student_df.at[2,\"Age\"]\n",
        "print(value) \n",
        "\n",
        "#update value col=age ,index=2\n",
        "student_df.at[2,\"age\"]=50\n",
        "print(student_df.at[2,\"age\"])\n",
        "\n",
        "#drop col\n",
        "#student_df=student_df.drop(columns='age')"
      ],
      "execution_count": null,
      "outputs": [
        {
          "output_type": "stream",
          "name": "stdout",
          "text": [
            "19\n",
            "50.0\n"
          ]
        }
      ]
    }
  ]
}