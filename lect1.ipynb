{
  "nbformat": 4,
  "nbformat_minor": 0,
  "metadata": {
    "colab": {
      "name": "lect1.ipynb",
      "provenance": [],
      "collapsed_sections": [],
      "authorship_tag": "ABX9TyP32D7TnBm2YbYvXamYDGe/",
      "include_colab_link": true
    },
    "kernelspec": {
      "name": "python3",
      "display_name": "Python 3"
    },
    "language_info": {
      "name": "python"
    }
  },
  "cells": [
    {
      "cell_type": "markdown",
      "metadata": {
        "id": "view-in-github",
        "colab_type": "text"
      },
      "source": [
        "<a href=\"https://colab.research.google.com/github/alaazarour/lecture-python/blob/main/lect1.ipynb\" target=\"_parent\"><img src=\"https://colab.research.google.com/assets/colab-badge.svg\" alt=\"Open In Colab\"/></a>"
      ]
    },
    {
      "cell_type": "code",
      "metadata": {
        "colab": {
          "base_uri": "https://localhost:8080/"
        },
        "id": "W9ZrXhFiAFIT",
        "outputId": "4be55826-a0c4-4dcd-fa21-4a13797117cc"
      },
      "source": [
        "name=\"alaa\"\n",
        "age=22\n",
        "print(name)\n",
        "print(age)\n",
        "j=2\n",
        "a=4+5*j\n",
        "print(a)\n",
        "print(\"hello\")"
      ],
      "execution_count": 1,
      "outputs": [
        {
          "output_type": "stream",
          "name": "stdout",
          "text": [
            "alaa\n",
            "22\n",
            "14\n",
            "hello\n"
          ]
        }
      ]
    },
    {
      "cell_type": "code",
      "metadata": {
        "colab": {
          "base_uri": "https://localhost:8080/"
        },
        "id": "dFP2Wuc3bWeu",
        "outputId": "84052342-56d4-4660-c8cd-39ac8a7907f3"
      },
      "source": [
        "str='pynative'\n",
        "print(str)\n",
        "print(str[-1])\n",
        "print(str[0:5])\n",
        "print(len(str))\n",
        "print(str+ ' '+'course')"
      ],
      "execution_count": 2,
      "outputs": [
        {
          "output_type": "stream",
          "name": "stdout",
          "text": [
            "pynative\n",
            "e\n",
            "pynat\n",
            "8\n",
            "pynative course\n"
          ]
        }
      ]
    },
    {
      "cell_type": "code",
      "metadata": {
        "colab": {
          "base_uri": "https://localhost:8080/"
        },
        "id": "RvFSQRygbgm9",
        "outputId": "454f5cb1-00d2-41f3-e091-b47493d2448e"
      },
      "source": [
        "my_list=['alaa', 10,20,'mais',50,10.5]\n",
        "print(my_list)\n",
        "print(my_list[0])\n",
        "print(my_list[1:5])\n",
        "my_list.append('hi')\n",
        "print(my_list)"
      ],
      "execution_count": 3,
      "outputs": [
        {
          "output_type": "stream",
          "name": "stdout",
          "text": [
            "['alaa', 10, 20, 'mais', 50, 10.5]\n",
            "alaa\n",
            "[10, 20, 'mais', 50]\n",
            "['alaa', 10, 20, 'mais', 50, 10.5, 'hi']\n"
          ]
        }
      ]
    },
    {
      "cell_type": "code",
      "metadata": {
        "colab": {
          "base_uri": "https://localhost:8080/"
        },
        "id": "f3-PmEJ4bqim",
        "outputId": "1d1c77cc-9a05-4a71-c186-07d6a4a756c6"
      },
      "source": [
        "def test1():\n",
        "  price=100\n",
        "  print(price)\n",
        "\n",
        "def test2():\n",
        " name='alla'\n",
        " print(name)\n",
        "\n",
        "test1()\n",
        "test2()\n"
      ],
      "execution_count": 4,
      "outputs": [
        {
          "output_type": "stream",
          "name": "stdout",
          "text": [
            "100\n",
            "alla\n"
          ]
        }
      ]
    },
    {
      "cell_type": "code",
      "metadata": {
        "colab": {
          "base_uri": "https://localhost:8080/"
        },
        "id": "CQppnZpZb0Cf",
        "outputId": "54436f13-ced4-4c19-d5e2-7b5bf378eafd"
      },
      "source": [
        "x=2.2\n",
        "y=4.2\n",
        "print(y//x)\n",
        "\n",
        "print(100 or 200)\n",
        "print(400 and 600)"
      ],
      "execution_count": 5,
      "outputs": [
        {
          "output_type": "stream",
          "name": "stdout",
          "text": [
            "1.0\n",
            "100\n",
            "600\n"
          ]
        }
      ]
    },
    {
      "cell_type": "code",
      "metadata": {
        "id": "kYIAftOBb6wQ"
      },
      "source": [
        "a=1\n",
        "if not a:\n",
        "  print (a)\n",
        "else:\n",
        "   # print('hi')\n",
        "\n",
        " my_list =[10,20,30]\n",
        "number=15\n",
        "if number in my_list:\n",
        "  print(number)\n"
      ],
      "execution_count": 6,
      "outputs": []
    },
    {
      "cell_type": "code",
      "metadata": {
        "colab": {
          "base_uri": "https://localhost:8080/"
        },
        "id": "FQqUAwg-cDly",
        "outputId": "bafeddde-95be-425a-fe2c-cf3f2c5ea7bb"
      },
      "source": [
        "my_dict={1:'alaa',2:'mais',3:'maram'}\n",
        "print(my_dict)\n",
        "print(type(my_dict))\n",
        "print(my_dict[1])"
      ],
      "execution_count": 7,
      "outputs": [
        {
          "output_type": "stream",
          "name": "stdout",
          "text": [
            "{1: 'alaa', 2: 'mais', 3: 'maram'}\n",
            "<class 'dict'>\n",
            "alaa\n"
          ]
        }
      ]
    },
    {
      "cell_type": "code",
      "metadata": {
        "colab": {
          "base_uri": "https://localhost:8080/"
        },
        "id": "Qcr5dLqDcKva",
        "outputId": "19940f14-dd45-483d-aca3-23b2344e3c59"
      },
      "source": [
        "numbers=range(10,15)\n",
        "print(type(numbers))\n",
        "for i in range(10,15):\n",
        "  print(i)"
      ],
      "execution_count": 8,
      "outputs": [
        {
          "output_type": "stream",
          "name": "stdout",
          "text": [
            "<class 'range'>\n",
            "10\n",
            "11\n",
            "12\n",
            "13\n",
            "14\n"
          ]
        }
      ]
    },
    {
      "cell_type": "code",
      "metadata": {
        "colab": {
          "base_uri": "https://localhost:8080/"
        },
        "id": "apkpBhhycRT9",
        "outputId": "b477747a-81f9-456c-c964-e2f8f5a7c411"
      },
      "source": [
        "password=input('enter password')\n",
        "if password ==\"alaa@19\":\n",
        "    print('correct pass')\n",
        "else:\n",
        "      print('incorrect pass')"
      ],
      "execution_count": 11,
      "outputs": [
        {
          "output_type": "stream",
          "name": "stdout",
          "text": [
            "enter passwordalaa@19\n",
            "correct pass\n"
          ]
        }
      ]
    },
    {
      "cell_type": "code",
      "metadata": {
        "colab": {
          "base_uri": "https://localhost:8080/"
        },
        "id": "4RifHwRrchuZ",
        "outputId": "7c219297-ffc9-49ae-bd08-5d2c18640948"
      },
      "source": [
        " for i in range (1,11):\n",
        "      print(i)"
      ],
      "execution_count": 12,
      "outputs": [
        {
          "output_type": "stream",
          "name": "stdout",
          "text": [
            "1\n",
            "2\n",
            "3\n",
            "4\n",
            "5\n",
            "6\n",
            "7\n",
            "8\n",
            "9\n",
            "10\n"
          ]
        }
      ]
    },
    {
      "cell_type": "code",
      "metadata": {
        "colab": {
          "base_uri": "https://localhost:8080/"
        },
        "id": "SDVagIylcZZm",
        "outputId": "26fbe2b7-42b7-43cf-8863-1500aa365d17"
      },
      "source": [
        " num1=int(input('enter num'))\n",
        " num2=int(input('enter num'))\n",
        " if num1>num2 :\n",
        "  print (num1)"
      ],
      "execution_count": 14,
      "outputs": [
        {
          "output_type": "stream",
          "name": "stdout",
          "text": [
            "enter num10\n",
            "enter num3\n",
            "10\n"
          ]
        }
      ]
    },
    {
      "cell_type": "code",
      "metadata": {
        "colab": {
          "base_uri": "https://localhost:8080/"
        },
        "id": "03BGJcW1ca3_",
        "outputId": "d6db443a-8890-4529-9770-03fe3d28aec2"
      },
      "source": [
        "x=1\n",
        "while x<=5 :\n",
        " print(x);\n",
        " x=x+1\n"
      ],
      "execution_count": 18,
      "outputs": [
        {
          "output_type": "stream",
          "name": "stdout",
          "text": [
            "1\n",
            "2\n",
            "3\n",
            "4\n",
            "5\n"
          ]
        }
      ]
    },
    {
      "cell_type": "code",
      "metadata": {
        "colab": {
          "base_uri": "https://localhost:8080/"
        },
        "id": "SHyGKMBAcpJa",
        "outputId": "118bd1e9-978b-46e5-c3b8-53bdef0eede0"
      },
      "source": [
        "plat=['plaa']\n",
        "plat[0]='a'\n",
        "print(plat)\n"
      ],
      "execution_count": 19,
      "outputs": [
        {
          "output_type": "stream",
          "name": "stdout",
          "text": [
            "['a']\n"
          ]
        }
      ]
    },
    {
      "cell_type": "code",
      "metadata": {
        "colab": {
          "base_uri": "https://localhost:8080/"
        },
        "id": "TY5ga2hykmwJ",
        "outputId": "d10c05e1-9379-4955-89c5-2c9d98f922a2"
      },
      "source": [
        "for num in range (10):\n",
        "  if num > 5 :\n",
        "   print('stop')\n",
        "   break\n",
        "  print(num)\n",
        "\n",
        "  \n"
      ],
      "execution_count": 20,
      "outputs": [
        {
          "output_type": "stream",
          "name": "stdout",
          "text": [
            "0\n",
            "1\n",
            "2\n",
            "3\n",
            "4\n",
            "5\n",
            "stop\n"
          ]
        }
      ]
    }
  ]
}